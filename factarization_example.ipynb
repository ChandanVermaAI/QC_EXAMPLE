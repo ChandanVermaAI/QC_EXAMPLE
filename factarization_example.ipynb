{
 "cells": [
  {
   "cell_type": "markdown",
   "id": "8552ba22-9a2a-4675-9dd4-f3c94007005c",
   "metadata": {},
   "source": [
    "## classical Implemenation "
   ]
  },
  {
   "cell_type": "code",
   "execution_count": 7,
   "id": "6eaba19b-64f6-4af8-a385-206961ccf305",
   "metadata": {},
   "outputs": [],
   "source": [
    "import time"
   ]
  },
  {
   "cell_type": "code",
   "execution_count": 10,
   "id": "b61c5b4b-5e8a-4329-9f54-00d4dca403b5",
   "metadata": {},
   "outputs": [],
   "source": [
    "def calssical_fact(N):\n",
    "    factor= []\n",
    "    for i in range(2,N):\n",
    "        if N % i==0:\n",
    "            factor.append(i)\n",
    "    return factor"
   ]
  },
  {
   "cell_type": "code",
   "execution_count": 17,
   "id": "cc6ab606-0a35-4949-b03d-f94bd0cd6d91",
   "metadata": {},
   "outputs": [
    {
     "name": "stdout",
     "output_type": "stream",
     "text": [
      "Fcator of  400000000 ARE [2, 4, 5, 8, 10, 16, 20, 25, 32, 40, 50, 64, 80, 100, 125, 128, 160, 200, 250, 256, 320, 400, 500, 512, 625, 640, 800, 1000, 1024, 1250, 1280, 1600, 2000, 2500, 2560, 3125, 3200, 4000, 5000, 5120, 6250, 6400, 8000, 10000, 12500, 12800, 15625, 16000, 20000, 25000, 25600, 31250, 32000, 40000, 50000, 62500, 64000, 78125, 80000, 100000, 125000, 128000, 156250, 160000, 200000, 250000, 312500, 320000, 390625, 400000, 500000, 625000, 640000, 781250, 800000, 1000000, 1250000, 1562500, 1600000, 2000000, 2500000, 3125000, 3200000, 4000000, 5000000, 6250000, 8000000, 10000000, 12500000, 16000000, 20000000, 25000000, 40000000, 50000000, 80000000, 100000000, 200000000]\n",
      "Time taken : 44.71696901321411 Sec\n"
     ]
    }
   ],
   "source": [
    "N=400000000   #32 bit\n",
    "s_time=time.time()\n",
    "factor_result=calssical_fact(N)\n",
    "end_time=time.time()\n",
    "print(\"Fcator of \" ,N ,\"ARE\",factor_result)\n",
    "print(\"Time taken :\" ,end_time-s_time,\"Sec\")"
   ]
  },
  {
   "cell_type": "code",
   "execution_count": null,
   "id": "0cbccfa5-269d-4aa6-95f1-8a4d98a07db8",
   "metadata": {},
   "outputs": [],
   "source": []
  }
 ],
 "metadata": {
  "kernelspec": {
   "display_name": "Python 3 (ipykernel)",
   "language": "python",
   "name": "python3"
  },
  "language_info": {
   "codemirror_mode": {
    "name": "ipython",
    "version": 3
   },
   "file_extension": ".py",
   "mimetype": "text/x-python",
   "name": "python",
   "nbconvert_exporter": "python",
   "pygments_lexer": "ipython3",
   "version": "3.10.13"
  }
 },
 "nbformat": 4,
 "nbformat_minor": 5
}
