{
 "cells": [
  {
   "cell_type": "code",
   "execution_count": 1,
   "id": "61fa59e1-f1d2-4240-95bf-4e1a39eb3be0",
   "metadata": {},
   "outputs": [],
   "source": [
    "import math\n",
    "from qiskit import QuantumCircuit, transpile\n",
    "from qiskit_aer import Aer\n",
    "import pandas as pd\n"
   ]
  },
  {
   "cell_type": "code",
   "execution_count": 4,
   "id": "fe88b2b2-286c-4541-ab6b-8a8ff3e34f42",
   "metadata": {},
   "outputs": [],
   "source": [
    "data=pd.read_csv(r\"C:\\Users\\verma\\OneDrive\\Desktop\\Mlops_example\\Bmi_male_female.csv\")"
   ]
  },
  {
   "cell_type": "code",
   "execution_count": 5,
   "id": "14c514c6-dcf6-4c15-8296-de1637ae76bd",
   "metadata": {},
   "outputs": [
    {
     "data": {
      "text/html": [
       "<div>\n",
       "<style scoped>\n",
       "    .dataframe tbody tr th:only-of-type {\n",
       "        vertical-align: middle;\n",
       "    }\n",
       "\n",
       "    .dataframe tbody tr th {\n",
       "        vertical-align: top;\n",
       "    }\n",
       "\n",
       "    .dataframe thead th {\n",
       "        text-align: right;\n",
       "    }\n",
       "</style>\n",
       "<table border=\"1\" class=\"dataframe\">\n",
       "  <thead>\n",
       "    <tr style=\"text-align: right;\">\n",
       "      <th></th>\n",
       "      <th>Gender</th>\n",
       "      <th>Height</th>\n",
       "      <th>Weight</th>\n",
       "      <th>Index</th>\n",
       "    </tr>\n",
       "  </thead>\n",
       "  <tbody>\n",
       "    <tr>\n",
       "      <th>0</th>\n",
       "      <td>Male</td>\n",
       "      <td>174</td>\n",
       "      <td>96</td>\n",
       "      <td>4</td>\n",
       "    </tr>\n",
       "    <tr>\n",
       "      <th>1</th>\n",
       "      <td>Male</td>\n",
       "      <td>189</td>\n",
       "      <td>87</td>\n",
       "      <td>2</td>\n",
       "    </tr>\n",
       "    <tr>\n",
       "      <th>2</th>\n",
       "      <td>Female</td>\n",
       "      <td>185</td>\n",
       "      <td>110</td>\n",
       "      <td>4</td>\n",
       "    </tr>\n",
       "  </tbody>\n",
       "</table>\n",
       "</div>"
      ],
      "text/plain": [
       "   Gender  Height  Weight  Index\n",
       "0    Male     174      96      4\n",
       "1    Male     189      87      2\n",
       "2  Female     185     110      4"
      ]
     },
     "execution_count": 5,
     "metadata": {},
     "output_type": "execute_result"
    }
   ],
   "source": [
    "data.head(3)"
   ]
  },
  {
   "cell_type": "code",
   "execution_count": 19,
   "id": "28e500df-b0b5-4027-a8d0-21109d1e95d6",
   "metadata": {},
   "outputs": [
    {
     "data": {
      "text/plain": [
       "(500, 4)"
      ]
     },
     "execution_count": 19,
     "metadata": {},
     "output_type": "execute_result"
    }
   ],
   "source": [
    "data.shape"
   ]
  },
  {
   "cell_type": "code",
   "execution_count": 7,
   "id": "5dce240e-eb55-48cd-aff1-38ee132f57d1",
   "metadata": {},
   "outputs": [],
   "source": [
    "data_t=data.iloc[:,1:]"
   ]
  },
  {
   "cell_type": "code",
   "execution_count": 13,
   "id": "7da8be43-b2cd-44bc-a061-3a3beda119c3",
   "metadata": {},
   "outputs": [],
   "source": [
    "training_data=data_t.values.tolist()"
   ]
  },
  {
   "cell_type": "code",
   "execution_count": 16,
   "id": "2ebd4458-fc52-4acb-9734-625dc19a9e13",
   "metadata": {},
   "outputs": [],
   "source": [
    "data_train=training_data[:400]\n",
    "data_test=training_data[400:]"
   ]
  },
  {
   "cell_type": "code",
   "execution_count": 29,
   "id": "aaa2ba35-6621-4219-8d2e-07a9137f9226",
   "metadata": {},
   "outputs": [],
   "source": [
    "data_test=data_test[0]"
   ]
  },
  {
   "cell_type": "code",
   "execution_count": 31,
   "id": "ef23f861-a009-4a9e-aeb7-1d44472604f9",
   "metadata": {},
   "outputs": [
    {
     "data": {
      "text/plain": [
       "[195, 104, 3]"
      ]
     },
     "execution_count": 31,
     "metadata": {},
     "output_type": "execute_result"
    }
   ],
   "source": [
    "data_test"
   ]
  },
  {
   "cell_type": "code",
   "execution_count": 17,
   "id": "89719feb-1b26-4522-81dc-343619059c17",
   "metadata": {},
   "outputs": [
    {
     "data": {
      "text/plain": [
       "400"
      ]
     },
     "execution_count": 17,
     "metadata": {},
     "output_type": "execute_result"
    }
   ],
   "source": [
    "len(data_train)"
   ]
  },
  {
   "cell_type": "code",
   "execution_count": 18,
   "id": "e45f8885-f872-4d49-8ddd-0578c316d9d8",
   "metadata": {},
   "outputs": [
    {
     "data": {
      "text/plain": [
       "100"
      ]
     },
     "execution_count": 18,
     "metadata": {},
     "output_type": "execute_result"
    }
   ],
   "source": [
    "len(data_test)"
   ]
  },
  {
   "cell_type": "code",
   "execution_count": 25,
   "id": "2807d65e-9168-4ea7-a638-61fa2f726f85",
   "metadata": {},
   "outputs": [],
   "source": [
    "#data_test"
   ]
  },
  {
   "cell_type": "markdown",
   "id": "76cfcdf4-5108-44ea-a80f-b8a868be97e0",
   "metadata": {},
   "source": [
    "### Classical Machine Learning"
   ]
  },
  {
   "cell_type": "code",
   "execution_count": 35,
   "id": "43b49e5a-b9d6-422e-9378-7552c152cb9d",
   "metadata": {},
   "outputs": [
    {
     "name": "stdout",
     "output_type": "stream",
     "text": [
      "Classical Machine Learning:\n",
      "P(1) = 0.5244421365167681    P(0) = 0.475557863483232\n",
      "\n"
     ]
    }
   ],
   "source": [
    "import math\n",
    "import numpy as np\n",
    "from qiskit import Aer, QuantumCircuit, transpile, execute\n",
    "\n",
    "# Training data: [feature1, feature2, label]\n",
    "trainingData = [[0.9798, 0.2, 1], [0.3, 0.954, 0]]\n",
    "#trainingData=data_train\n",
    "# Query data to classify\n",
    "queryData = [0.85, 0.5268]\n",
    "#queryData=[195, 104]\n",
    "# Normalize training data\n",
    "for i in range(len(trainingData)):\n",
    "    vecLen = math.sqrt(trainingData[i][0]**2 + trainingData[i][1]**2)\n",
    "    trainingData[i][0] /= vecLen\n",
    "    trainingData[i][1] /= vecLen\n",
    "\n",
    "# Normalize query data\n",
    "vecLen = math.sqrt(queryData[0]**2 + queryData[1]**2)\n",
    "queryData[0] /= vecLen\n",
    "queryData[1] /= vecLen\n",
    "\n",
    "# Compute Euclidean Distances Squared\n",
    "euclideanDistanceSquared = [\n",
    "    (queryData[0] - trainingData[0][0])**2 + (queryData[1] - trainingData[0][1])**2,\n",
    "    (queryData[0] - trainingData[1][0])**2 + (queryData[1] - trainingData[1][1])**2\n",
    "]\n",
    "\n",
    "# Compute Weights\n",
    "weights = [\n",
    "    1 - 0.25 * euclideanDistanceSquared[0],\n",
    "    1 - 0.25 * euclideanDistanceSquared[1]\n",
    "]\n",
    "\n",
    "# Normalize Weights\n",
    "weightSum = sum(weights)\n",
    "weights = [w / weightSum for w in weights]\n",
    "\n",
    "# Print the classical probabilities\n",
    "print(\"Classical Machine Learning:\")\n",
    "print(\"P(1) =\", weights[0], \"   P(0) =\", weights[1])\n",
    "print(\"\")\n"
   ]
  },
  {
   "cell_type": "markdown",
   "id": "6b233434-25dd-466a-9a00-3bd468d4eda4",
   "metadata": {},
   "source": [
    "### Quantum Machine Learning"
   ]
  },
  {
   "cell_type": "code",
   "execution_count": 36,
   "id": "bd967982-fd9f-47ae-9231-c29edcd6e336",
   "metadata": {},
   "outputs": [
    {
     "name": "stdout",
     "output_type": "stream",
     "text": [
      "Quantum Machine Learning:\n",
      "P(1) = 0.5260411003588127    P(0) = 0.47395889964118737\n",
      "\n",
      "Intermediate State Vectors:\n",
      "After Hadamard Statevector([ 0.        +0.00000000e+00j,  0.64692786-3.68027968e-17j,\n",
      "              0.        +0.00000000e+00j,  0.25696062-2.28090745e-17j,\n",
      "              0.40657751-3.68027968e-17j,  0.        +0.00000000e+00j,\n",
      "              0.5235206 -2.28090745e-17j,  0.        +0.00000000e+00j,\n",
      "              0.        +0.00000000e+00j,  0.04589258+3.68027968e-17j,\n",
      "              0.        +0.00000000e+00j, -0.11553983+2.28090745e-17j,\n",
      "             -0.19445778+3.68027968e-17j,  0.        +0.00000000e+00j,\n",
      "              0.15102015+2.28090745e-17j,  0.        +0.00000000e+00j],\n",
      "            dims=(2, 2, 2, 2))\n",
      "After Measuring Qubit 3 Statevector([ 0.        +0.00000000e+00j,  0.67303531-3.82880118e-17j,\n",
      "              0.        +0.00000000e+00j,  0.26733053-2.37295584e-17j,\n",
      "              0.42298536-3.82880118e-17j,  0.        +0.00000000e+00j,\n",
      "              0.54464782-2.37295584e-17j,  0.        +0.00000000e+00j,\n",
      "              0.        +0.00000000e+00j,  0.        +0.00000000e+00j,\n",
      "              0.        +0.00000000e+00j, -0.        +0.00000000e+00j,\n",
      "             -0.        +0.00000000e+00j,  0.        +0.00000000e+00j,\n",
      "              0.        +0.00000000e+00j,  0.        +0.00000000e+00j],\n",
      "            dims=(2, 2, 2, 2))\n"
     ]
    },
    {
     "data": {
      "image/png": "[encoded data removed]",
      "text/plain": [
       "<Figure size 1123.61x451.5 with 1 Axes>"
      ]
     },
     "execution_count": 36,
     "metadata": {},
     "output_type": "execute_result"
    }
   ],
   "source": [
    "# Import necessary libraries\n",
    "from qiskit import Aer, QuantumCircuit, transpile, execute\n",
    "import math\n",
    "\n",
    "# Initialize the simulator\n",
    "simulator = Aer.get_backend(\"aer_simulator\")\n",
    "\n",
    "# Create a quantum circuit with 4 qubits and 2 classical bits\n",
    "circuit = QuantumCircuit(4, 2)\n",
    "\n",
    "# Define the initial state vector with normalized training and query data\n",
    "initial_state = [\n",
    "    0, trainingData[0][0]/2, 0, trainingData[0][1]/2,\n",
    "    trainingData[1][0]/2, 0, trainingData[1][1]/2, 0,\n",
    "    0, queryData[0]/2, 0, queryData[1]/2,\n",
    "    queryData[0]/2, 0, queryData[1]/2, 0\n",
    "]\n",
    "\n",
    "# Initialize the quantum circuit with the initial state\n",
    "circuit.initialize(initial_state, range(4))\n",
    "\n",
    "# Apply a Hadamard gate to the 4th qubit\n",
    "circuit.h(3)\n",
    "\n",
    "# Save the state vector after Hadamard gate\n",
    "circuit.save_statevector(label='v1')\n",
    "\n",
    "# Measure the 4th qubit\n",
    "circuit.measure(3, 0)\n",
    "\n",
    "# Save the state vector after measuring the 4th qubit\n",
    "circuit.save_statevector(label='v2')\n",
    "\n",
    "# Measure the 1st qubit\n",
    "circuit.measure(0, 1)\n",
    "\n",
    "# Compile the circuit for the simulator\n",
    "compiled_circuit = transpile(circuit, simulator)\n",
    "\n",
    "# Execute the circuit on the simulator 10000 times\n",
    "numerator = 0\n",
    "denominator = 0\n",
    "for _ in range(10000):\n",
    "    job = simulator.run(compiled_circuit, shots=1)\n",
    "    result = job.result()\n",
    "    counts = result.get_counts(compiled_circuit)\n",
    "    if \"00\" in counts or \"10\" in counts:\n",
    "        stateAfterMeasuringQ3 = result.data(0)['v2']\n",
    "        denominator += 1\n",
    "        if \"10\" in counts:\n",
    "            numerator += 1\n",
    "\n",
    "# Print the quantum probabilities\n",
    "print(\"Quantum Machine Learning:\")\n",
    "print(\"P(1) =\", numerator/denominator, \"   P(0) =\", (denominator-numerator)/denominator)\n",
    "print(\"\")\n",
    "print(\"Intermediate State Vectors:\")\n",
    "print(\"After Hadamard\", result.data(0)['v1'])\n",
    "print(\"After Measuring Qubit 3\", stateAfterMeasuringQ3)\n",
    "\n",
    "# Draw the circuit\n",
    "circuit.draw(output=\"mpl\")\n"
   ]
  },
  {
   "cell_type": "code",
   "execution_count": null,
   "id": "baeac8ac-f0a5-4dc2-a23e-84b5ebc2ce52",
   "metadata": {},
   "outputs": [],
   "source": []
  }
 ],
 "metadata": {
  "kernelspec": {
   "display_name": "Python 3 (ipykernel)",
   "language": "python",
   "name": "python3"
  },
  "language_info": {
   "codemirror_mode": {
    "name": "ipython",
    "version": 3
   },
   "file_extension": ".py",
   "mimetype": "text/x-python",
   "name": "python",
   "nbconvert_exporter": "python",
   "pygments_lexer": "ipython3",
   "version": "3.10.13"
  }
 },
 "nbformat": 4,
 "nbformat_minor": 5
}
