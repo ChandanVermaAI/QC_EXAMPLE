{
 "cells": [
  {
   "cell_type": "code",
   "execution_count": 1,
   "id": "d5c2b119-d999-4b75-a078-7b0794006cd1",
   "metadata": {},
   "outputs": [],
   "source": [
    "import qiskit"
   ]
  },
  {
   "cell_type": "code",
   "execution_count": 2,
   "id": "a455640f-33a4-4248-a79f-70c6def8ec08",
   "metadata": {},
   "outputs": [
    {
     "name": "stdout",
     "output_type": "stream",
     "text": [
      "0.46.0\n"
     ]
    }
   ],
   "source": [
    "print(qiskit.__version__)"
   ]
  },
  {
   "cell_type": "code",
   "execution_count": 4,
   "id": "0e18f49f-179f-4513-a6b7-4c511b12088e",
   "metadata": {},
   "outputs": [],
   "source": [
    "fun_method=dir(qiskit)"
   ]
  },
  {
   "cell_type": "code",
   "execution_count": 5,
   "id": "eb810568-e2d0-4f1d-a258-8f0f00917df3",
   "metadata": {},
   "outputs": [
    {
     "data": {
      "text/plain": [
       "68"
      ]
     },
     "execution_count": 5,
     "metadata": {},
     "output_type": "execute_result"
    }
   ],
   "source": [
    "len(fun_method)"
   ]
  },
  {
   "cell_type": "code",
   "execution_count": 9,
   "id": "33754264-7a4e-4a73-8be1-f687b9bba5c7",
   "metadata": {},
   "outputs": [
    {
     "data": {
      "text/plain": [
       "['Aer',\n",
       " 'AerWrapper',\n",
       " 'AncillaRegister',\n",
       " 'ClassicalRegister',\n",
       " 'IBMQ',\n",
       " 'IBMQWrapper',\n",
       " 'MissingOptionalLibraryError',\n",
       " 'QiskitError',\n",
       " 'QiskitVersion',\n",
       " 'QuantumCircuit',\n",
       " 'QuantumRegister',\n",
       " '_',\n",
       " '_DEPRECATED_NAMES',\n",
       " '__all__',\n",
       " '__builtins__',\n",
       " '__cached__',\n",
       " '__doc__',\n",
       " '__file__',\n",
       " '__getattr__',\n",
       " '__loader__',\n",
       " '__name__',\n",
       " '__package__',\n",
       " '__path__',\n",
       " '__qiskit_version__',\n",
       " '__spec__',\n",
       " '__version__',\n",
       " '_accelerate',\n",
       " '_config',\n",
       " '_major',\n",
       " '_qasm2',\n",
       " '_qiskit_version',\n",
       " '_suppress_error',\n",
       " '_user_config',\n",
       " 'assemble',\n",
       " 'assembler',\n",
       " 'circuit',\n",
       " 'compiler',\n",
       " 'converters',\n",
       " 'dagcircuit',\n",
       " 'exceptions',\n",
       " 'execute',\n",
       " 'execute_function',\n",
       " 'importlib',\n",
       " 'namespace',\n",
       " 'new_meta_path_finder',\n",
       " 'os',\n",
       " 'passmanager',\n",
       " 'pkgutil',\n",
       " 'providers',\n",
       " 'pulse',\n",
       " 'qasm',\n",
       " 'qasm2',\n",
       " 'qiskit',\n",
       " 'qobj',\n",
       " 'quantum_info',\n",
       " 'result',\n",
       " 'schedule',\n",
       " 'scheduler',\n",
       " 'sequence',\n",
       " 'synthesis',\n",
       " 'sys',\n",
       " 'tools',\n",
       " 'transpile',\n",
       " 'transpiler',\n",
       " 'user_config',\n",
       " 'utils',\n",
       " 'version',\n",
       " 'warnings']"
      ]
     },
     "execution_count": 9,
     "metadata": {},
     "output_type": "execute_result"
    }
   ],
   "source": [
    "fun_method"
   ]
  },
  {
   "cell_type": "code",
   "execution_count": 37,
   "id": "a99098ba-7296-4836-acaa-f7747c2f17ea",
   "metadata": {},
   "outputs": [],
   "source": [
    "from qiskit import QuantumCircuit,transpile,Aer,execute\n",
    "from qiskit.visualization import plot_histogram"
   ]
  },
  {
   "cell_type": "code",
   "execution_count": 38,
   "id": "b5bd9dbe-fdae-417b-bc53-fe9360d7ebec",
   "metadata": {},
   "outputs": [],
   "source": [
    "qc=QuantumCircuit(2,2)"
   ]
  },
  {
   "cell_type": "code",
   "execution_count": 39,
   "id": "6305fa68-19b7-4c2c-9f12-6b5e21133d42",
   "metadata": {},
   "outputs": [],
   "source": [
    "#len(dir(qc))"
   ]
  },
  {
   "cell_type": "markdown",
   "id": "91a5ba16-a039-4a28-8380-ca9fa02786db",
   "metadata": {},
   "source": [
    "qc.h(0) # hadamard"
   ]
  },
  {
   "cell_type": "code",
   "execution_count": 41,
   "id": "7b6e192e-48b8-450f-b726-2a7de3f95f14",
   "metadata": {},
   "outputs": [
    {
     "data": {
      "text/plain": [
       "<qiskit.circuit.instructionset.InstructionSet at 0x2735d7b5300>"
      ]
     },
     "execution_count": 41,
     "metadata": {},
     "output_type": "execute_result"
    }
   ],
   "source": [
    "qc.cx(0,1) # CNOT"
   ]
  },
  {
   "cell_type": "code",
   "execution_count": 42,
   "id": "c9df5730-1fa1-4bf6-9a42-808f36439506",
   "metadata": {},
   "outputs": [
    {
     "data": {
      "text/plain": [
       "<qiskit.circuit.instructionset.InstructionSet at 0x2735d7b6ce0>"
      ]
     },
     "execution_count": 42,
     "metadata": {},
     "output_type": "execute_result"
    }
   ],
   "source": [
    "qc.measure([0,1],[0,1])"
   ]
  },
  {
   "cell_type": "code",
   "execution_count": 43,
   "id": "50a9ccd5-b76d-4f64-aa57-522a96f9dff1",
   "metadata": {},
   "outputs": [],
   "source": [
    "simulater=Aer.get_backend('qasm_simulator')"
   ]
  },
  {
   "cell_type": "code",
   "execution_count": 44,
   "id": "3ada37cf-f700-4e55-820f-b79eb9f7c564",
   "metadata": {},
   "outputs": [],
   "source": [
    "compiled_ckt=transpile(qc,simulater)"
   ]
  },
  {
   "cell_type": "code",
   "execution_count": 45,
   "id": "2908f5ac-ca8d-43f9-8088-9a20bd42a320",
   "metadata": {},
   "outputs": [
    {
     "name": "stderr",
     "output_type": "stream",
     "text": [
      "C:\\Users\\verma\\AppData\\Local\\Temp\\ipykernel_30684\\421872540.py:1: DeprecationWarning: The function ``qiskit.execute_function.execute()`` is deprecated as of qiskit 0.46.0. It will be removed in the Qiskit 1.0 release. This function combines ``transpile`` and ``backend.run``, which is covered by ``Sampler`` :mod:`~qiskit.primitives`. Alternatively, you can also run :func:`.transpile` followed by ``backend.run()``.\n",
      "  job=execute(compiled_ckt,simulater,shots=2000)\n"
     ]
    }
   ],
   "source": [
    "job=execute(compiled_ckt,simulater,shots=2000)"
   ]
  },
  {
   "cell_type": "code",
   "execution_count": 46,
   "id": "f986204b-ea8f-47c8-a5df-42a96ac2686f",
   "metadata": {},
   "outputs": [],
   "source": [
    "result=job.result()"
   ]
  },
  {
   "cell_type": "code",
   "execution_count": 47,
   "id": "bb596b56-fcd8-4818-a644-4b395642f016",
   "metadata": {},
   "outputs": [],
   "source": [
    "counts=result.get_counts(qc)"
   ]
  },
  {
   "cell_type": "code",
   "execution_count": 48,
   "id": "bbd62567-18b2-47c1-bd06-c8c922617d79",
   "metadata": {},
   "outputs": [
    {
     "name": "stdout",
     "output_type": "stream",
     "text": [
      "{'00': 2000}\n"
     ]
    }
   ],
   "source": [
    "print(counts)"
   ]
  },
  {
   "cell_type": "code",
   "execution_count": 49,
   "id": "adfd13c4-ec56-4fdb-be42-26ed906bfe69",
   "metadata": {},
   "outputs": [
    {
     "data": {
      "image/png": "[encoded data removed]",
      "text/plain": [
       "<Figure size 700x500 with 1 Axes>"
      ]
     },
     "execution_count": 49,
     "metadata": {},
     "output_type": "execute_result"
    }
   ],
   "source": [
    "plot_histogram(counts)"
   ]
  },
  {
   "cell_type": "code",
   "execution_count": 27,
   "id": "7f3358fb-3a3d-4b27-a393-f25edcff7f77",
   "metadata": {},
   "outputs": [],
   "source": [
    "from qiskit import QuantumCircuit,transpile,Aer,execute"
   ]
  },
  {
   "cell_type": "code",
   "execution_count": 28,
   "id": "da526ff1-11d5-4c13-9518-27eb2821fa9c",
   "metadata": {},
   "outputs": [],
   "source": [
    "qc=QuantumCircuit(1)"
   ]
  },
  {
   "cell_type": "code",
   "execution_count": 29,
   "id": "03729000-7453-427f-b2f1-4c614f4570e8",
   "metadata": {},
   "outputs": [
    {
     "data": {
      "text/plain": [
       "<qiskit.circuit.instructionset.InstructionSet at 0x27302f09360>"
      ]
     },
     "execution_count": 29,
     "metadata": {},
     "output_type": "execute_result"
    }
   ],
   "source": [
    "qc.h(0)"
   ]
  },
  {
   "cell_type": "code",
   "execution_count": 30,
   "id": "314c92ab-1317-4b95-95e7-1fb06f3691d9",
   "metadata": {},
   "outputs": [
    {
     "name": "stderr",
     "output_type": "stream",
     "text": [
      "C:\\Users\\verma\\anaconda3\\envs\\llm_env\\lib\\site-packages\\qiskit\\visualization\\circuit\\matplotlib.py:266: FutureWarning: The default matplotlib drawer scheme will be changed to \"iqp\" in a following release. To silence this warning, specify the current default explicitly as style=\"clifford\", or the new default as style=\"iqp\".\n",
      "  self._style, def_font_ratio = load_style(self._style)\n"
     ]
    },
    {
     "data": {
      "image/png": "[encoded data removed]",
      "text/plain": [
       "<Figure size 185.453x117.056 with 1 Axes>"
      ]
     },
     "execution_count": 30,
     "metadata": {},
     "output_type": "execute_result"
    }
   ],
   "source": [
    "qc.draw('mpl')"
   ]
  },
  {
   "cell_type": "code",
   "execution_count": null,
   "id": "56bdc613-b70b-4f70-93cc-bde1a765f07c",
   "metadata": {},
   "outputs": [],
   "source": []
  }
 ],
 "metadata": {
  "kernelspec": {
   "display_name": "Python 3 (ipykernel)",
   "language": "python",
   "name": "python3"
  },
  "language_info": {
   "codemirror_mode": {
    "name": "ipython",
    "version": 3
   },
   "file_extension": ".py",
   "mimetype": "text/x-python",
   "name": "python",
   "nbconvert_exporter": "python",
   "pygments_lexer": "ipython3",
   "version": "3.10.13"
  }
 },
 "nbformat": 4,
 "nbformat_minor": 5
}
